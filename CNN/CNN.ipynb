{
 "cells": [
  {
   "cell_type": "markdown",
   "id": "95f47f66",
   "metadata": {},
   "source": [
    "### Convolution Operation\n",
    "* The convolution of f and g is written f∗g, denoting the operator with the symbol ∗ It is defined as the integral of the product of the two functions after one is reflected about the y-axis and shifted\n",
    "\n",
    "<img src='https://i.ibb.co/svCPnfy/Screenshot-from-2023-01-27-16-40-02.png' width=50%>\n",
    "\n",
    "* The above image is an example of convolution operation on a 2D matrix(image) with a 3x3 filter/kernel which generate a blurred image as this kernel take average of neighbouring pixels\n",
    "* We can also apply kernel on a 3D example with the fileter of same depth as of example\n",
    "and the generated output is called feature map\n",
    "* Size of matrices\n",
    "    * $W_{2}=$ $W_{1}-F+2P\\over S$$+1$\n",
    "    * $H_{2}=$ $H_{1}-F+2P\\over S$$+1$\n",
    "    * $D = K$<br>\n",
    "    $W_{1},H_{1},W_{2},H_{2}$ is width and height of input and output respectively . $F$ is size of filter . $P$ is padding around input . $D,K$  is Depth of output and number of filter respectively"
   ]
  },
  {
   "cell_type": "markdown",
   "id": "ec691b7c",
   "metadata": {},
   "source": [
    "### Convolutional Neural network\n",
    "* In CNN we learn the parametrs of filter as we do for weights and bias in feedforward neural networks \n",
    "* For example if we apply K MxM filter over a image then , hiden layer would be consisting of KxMxM nodes\n",
    "* CNN have sparse conection which reduces the number of parameter , which is good for over-fitting but bad too as we loosiong information between some interation , but we will have multiple layers hence at some point we will capture that interation this is called ***sparce conectivity***\n",
    "* CNN also have ***weight sharing*** , we can use the same filter all over the image to get one feature map and use multiple filter for more information/parameters\n",
    "<img src='https://i.ibb.co/mNyKPsB/Screenshot-from-2023-01-28-12-06-47.png' width=65%>\n",
    "<br>\n",
    "* The above image is a whole CNN with 2 Convolution operation layer which is further connected to fully connected feed forward neural network\n",
    "    * First convolutional layer is consist of 6 5x5 filter which turn out to be 150 parameter which generated 6 feature maps , these maps would contain some features important for main task\n",
    "    * The 6 feature map then passed through a maxpool operation , which is a 2x2 filter return the max. \n",
    "    * Then again a convolutional layer with 16 5x5x6 filter (x6 as now input has depth of 6) which turn out to be 2400 parameter which again passed through a maxpool operation\n",
    "    * Now this end result passed as a input to a feed forward network for further operation\n",
    "* We can again use backpropogation with some tweks for training CNN\n"
   ]
  },
  {
   "attachments": {},
   "cell_type": "markdown",
   "id": "ad033ded",
   "metadata": {},
   "source": [
    "### Famous ImageNet artitectures\n",
    "* ***AlexNet*** : <img src='https://i.ibb.co/XWK3T7q/AlexNet.png' width=60%>\n",
    "* ***ZFNet*** : <img src='https://i.ibb.co/cNVX6D5/Screenshot-from-2023-01-28-15-14-29.png' width=60%>\n",
    "* ***VGGNet*** : <img src='https://i.ibb.co/xDCZs6S/Screenshot-from-2023-01-28-15-11-01.png' width=60%>\n",
    "* ***GoogleNet*** : <img src='https://i.ibb.co/NNHrt0g/Screenshot-from-2023-01-28-15-38-05.png' width=65%><img src='https://i.ibb.co/f1my2mV/Screenshot-from-2023-01-28-15-39-56.png' width=50%><center>Inception Module</center>\n",
    "<br>\n",
    "* ***ResNet*** : Its is formed of 152 convolution layers but we again feed X(input) after some layers.\n",
    "<img src='https://media.geeksforgeeks.org/wp-content/uploads/20200424011138/ResNet.PNG' width=60%>"
   ]
  },
  {
   "cell_type": "code",
   "execution_count": null,
   "id": "25d8f8d6",
   "metadata": {},
   "outputs": [],
   "source": []
  }
 ],
 "metadata": {
  "kernelspec": {
   "display_name": "Python 3 (ipykernel)",
   "language": "python",
   "name": "python3"
  },
  "language_info": {
   "codemirror_mode": {
    "name": "ipython",
    "version": 3
   },
   "file_extension": ".py",
   "mimetype": "text/x-python",
   "name": "python",
   "nbconvert_exporter": "python",
   "pygments_lexer": "ipython3",
   "version": "3.10.6"
  }
 },
 "nbformat": 4,
 "nbformat_minor": 5
}
